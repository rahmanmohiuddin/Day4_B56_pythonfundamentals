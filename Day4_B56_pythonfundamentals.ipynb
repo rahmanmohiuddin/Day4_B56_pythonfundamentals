{
 "cells": [
  {
   "cell_type": "code",
   "execution_count": null,
   "id": "74f7868a",
   "metadata": {},
   "outputs": [],
   "source": [
    "introduction to list data types  :"
   ]
  },
  {
   "cell_type": "code",
   "execution_count": null,
   "id": "bc83a738",
   "metadata": {},
   "outputs": [],
   "source": [
    "defination :Alist is a collection of items defined in a particular order.\n",
    "classification : it is classified as a mutable data type\n",
    "how to define/declare the list------->    "
   ]
  },
  {
   "cell_type": "code",
   "execution_count": null,
   "id": "de92ce3d",
   "metadata": {},
   "outputs": [],
   "source": []
  },
  {
   "cell_type": "code",
   "execution_count": 1,
   "id": "d93cefaa",
   "metadata": {},
   "outputs": [],
   "source": [
    "students = ['simran','tasleem','nihar','ravi','kumar','abdul']"
   ]
  },
  {
   "cell_type": "code",
   "execution_count": 2,
   "id": "9f82dab2",
   "metadata": {},
   "outputs": [
    {
     "name": "stdout",
     "output_type": "stream",
     "text": [
      "['simran', 'tasleem', 'nihar', 'ravi', 'kumar', 'abdul']\n"
     ]
    }
   ],
   "source": [
    "print(students)"
   ]
  },
  {
   "cell_type": "code",
   "execution_count": null,
   "id": "ab9d3862",
   "metadata": {},
   "outputs": [],
   "source": []
  },
  {
   "cell_type": "code",
   "execution_count": null,
   "id": "a157d53a",
   "metadata": {},
   "outputs": [],
   "source": [
    "# how to verify datatype....?"
   ]
  },
  {
   "cell_type": "code",
   "execution_count": 3,
   "id": "cc889f16",
   "metadata": {},
   "outputs": [
    {
     "data": {
      "text/plain": [
       "list"
      ]
     },
     "execution_count": 3,
     "metadata": {},
     "output_type": "execute_result"
    }
   ],
   "source": [
    "type(students)"
   ]
  },
  {
   "cell_type": "code",
   "execution_count": null,
   "id": "ff5bd9d7",
   "metadata": {},
   "outputs": [],
   "source": [
    "introduction to indexing:0,1,2,3,4,..........n"
   ]
  },
  {
   "cell_type": "code",
   "execution_count": null,
   "id": "f019173f",
   "metadata": {},
   "outputs": [],
   "source": []
  },
  {
   "cell_type": "code",
   "execution_count": null,
   "id": "ddb1a3b9",
   "metadata": {},
   "outputs": [],
   "source": [
    "# how to acess the elements from the list.....?"
   ]
  },
  {
   "cell_type": "code",
   "execution_count": null,
   "id": "dcc024b2",
   "metadata": {},
   "outputs": [],
   "source": [
    "# i want to acess ravis name from the above list...?"
   ]
  },
  {
   "cell_type": "code",
   "execution_count": 5,
   "id": "4dcb7bf4",
   "metadata": {},
   "outputs": [
    {
     "name": "stdout",
     "output_type": "stream",
     "text": [
      "ravi\n"
     ]
    }
   ],
   "source": [
    "print(students[3])"
   ]
  },
  {
   "cell_type": "code",
   "execution_count": 6,
   "id": "7e8edf7e",
   "metadata": {},
   "outputs": [
    {
     "name": "stdout",
     "output_type": "stream",
     "text": [
      "Ravi\n"
     ]
    }
   ],
   "source": [
    "print(students[3].title())"
   ]
  },
  {
   "cell_type": "code",
   "execution_count": 7,
   "id": "a938e59b",
   "metadata": {},
   "outputs": [
    {
     "name": "stdout",
     "output_type": "stream",
     "text": [
      "['simran', 'tasleem', 'nihar', 'ravi', 'kumar', 'abdul']\n"
     ]
    }
   ],
   "source": [
    "print(students)"
   ]
  },
  {
   "cell_type": "code",
   "execution_count": null,
   "id": "a82c0307",
   "metadata": {},
   "outputs": [],
   "source": [
    "# i want to acess simran name from the list..../"
   ]
  },
  {
   "cell_type": "code",
   "execution_count": 8,
   "id": "472062cd",
   "metadata": {},
   "outputs": [
    {
     "name": "stdout",
     "output_type": "stream",
     "text": [
      "Simran\n"
     ]
    }
   ],
   "source": [
    "print(students[0].title())"
   ]
  },
  {
   "cell_type": "code",
   "execution_count": null,
   "id": "9189c100",
   "metadata": {},
   "outputs": [],
   "source": []
  },
  {
   "cell_type": "code",
   "execution_count": null,
   "id": "ed21e018",
   "metadata": {},
   "outputs": [],
   "source": [
    "1. how to add new elements to the list......?\n",
    "2. how to modify  the elements in the list....?\n",
    "3. how to delete the elements from the list....?"
   ]
  },
  {
   "cell_type": "code",
   "execution_count": null,
   "id": "6b2bf3f6",
   "metadata": {},
   "outputs": [],
   "source": []
  },
  {
   "cell_type": "code",
   "execution_count": null,
   "id": "806b2158",
   "metadata": {},
   "outputs": [],
   "source": [
    "# i want to add shradha to the above"
   ]
  },
  {
   "cell_type": "code",
   "execution_count": 9,
   "id": "d06d9736",
   "metadata": {},
   "outputs": [],
   "source": [
    "students.append('shraddha')"
   ]
  },
  {
   "cell_type": "code",
   "execution_count": 10,
   "id": "dc376690",
   "metadata": {},
   "outputs": [
    {
     "name": "stdout",
     "output_type": "stream",
     "text": [
      "['simran', 'tasleem', 'nihar', 'ravi', 'kumar', 'abdul', 'shraddha']\n"
     ]
    }
   ],
   "source": [
    "print(students)"
   ]
  },
  {
   "cell_type": "code",
   "execution_count": null,
   "id": "d689b5b6",
   "metadata": {},
   "outputs": [],
   "source": [
    "# iwant to add shiva to above list....?"
   ]
  },
  {
   "cell_type": "code",
   "execution_count": 11,
   "id": "e078bd1e",
   "metadata": {},
   "outputs": [],
   "source": [
    "students.append('shiva')"
   ]
  },
  {
   "cell_type": "code",
   "execution_count": 12,
   "id": "e1364db4",
   "metadata": {},
   "outputs": [
    {
     "name": "stdout",
     "output_type": "stream",
     "text": [
      "['simran', 'tasleem', 'nihar', 'ravi', 'kumar', 'abdul', 'shraddha', 'shiva']\n"
     ]
    }
   ],
   "source": [
    "print(students)"
   ]
  },
  {
   "cell_type": "code",
   "execution_count": null,
   "id": "ceee4e0d",
   "metadata": {},
   "outputs": [],
   "source": [
    "# i want to add hamed to the second position in the above list...."
   ]
  },
  {
   "cell_type": "code",
   "execution_count": 14,
   "id": "8c16952f",
   "metadata": {},
   "outputs": [],
   "source": [
    "students.insert(2,'hamed')"
   ]
  },
  {
   "cell_type": "code",
   "execution_count": 15,
   "id": "c47c8a80",
   "metadata": {},
   "outputs": [
    {
     "name": "stdout",
     "output_type": "stream",
     "text": [
      "['simran', 'tasleem', 'hamed', 'nihar', 'ravi', 'kumar', 'abdul', 'shraddha', 'shiva']\n"
     ]
    }
   ],
   "source": [
    "print(students)"
   ]
  },
  {
   "cell_type": "code",
   "execution_count": null,
   "id": "517cb484",
   "metadata": {},
   "outputs": [],
   "source": [
    "question :what is the diff btw append and insert method in the list....?"
   ]
  },
  {
   "cell_type": "code",
   "execution_count": null,
   "id": "ed9404e5",
   "metadata": {},
   "outputs": [],
   "source": []
  },
  {
   "cell_type": "code",
   "execution_count": null,
   "id": "b9535d69",
   "metadata": {},
   "outputs": [],
   "source": [
    "2.how to modify elements in the list.....?"
   ]
  },
  {
   "cell_type": "code",
   "execution_count": 18,
   "id": "73e51eba",
   "metadata": {},
   "outputs": [
    {
     "name": "stdout",
     "output_type": "stream",
     "text": [
      "['simran', 'tasleem', 'hamed', 'nihar', 'ravi', 'kumar', 'abdul', 'shraddha', 'shiva']\n"
     ]
    }
   ],
   "source": [
    "print(students)"
   ]
  },
  {
   "cell_type": "code",
   "execution_count": null,
   "id": "c662a056",
   "metadata": {},
   "outputs": [],
   "source": [
    "# req; iwant to modify rave to prasad.../"
   ]
  },
  {
   "cell_type": "code",
   "execution_count": null,
   "id": "3913cf98",
   "metadata": {},
   "outputs": [],
   "source": []
  },
  {
   "cell_type": "code",
   "execution_count": 16,
   "id": "44e27be7",
   "metadata": {},
   "outputs": [
    {
     "name": "stdout",
     "output_type": "stream",
     "text": [
      "ravi\n"
     ]
    }
   ],
   "source": [
    "print(students[4])"
   ]
  },
  {
   "cell_type": "code",
   "execution_count": 19,
   "id": "98702fbb",
   "metadata": {},
   "outputs": [],
   "source": [
    "students[4]='prasad'"
   ]
  },
  {
   "cell_type": "code",
   "execution_count": 20,
   "id": "65cc6dca",
   "metadata": {},
   "outputs": [
    {
     "name": "stdout",
     "output_type": "stream",
     "text": [
      "['simran', 'tasleem', 'hamed', 'nihar', 'prasad', 'kumar', 'abdul', 'shraddha', 'shiva']\n"
     ]
    }
   ],
   "source": [
    "print(students)"
   ]
  },
  {
   "cell_type": "code",
   "execution_count": 21,
   "id": "5e80f76c",
   "metadata": {},
   "outputs": [
    {
     "name": "stdout",
     "output_type": "stream",
     "text": [
      "prasad\n"
     ]
    }
   ],
   "source": [
    "print(students[4])"
   ]
  },
  {
   "cell_type": "code",
   "execution_count": null,
   "id": "9b7d616e",
   "metadata": {},
   "outputs": [],
   "source": [
    "3. how to delete the elements in the list...?"
   ]
  },
  {
   "cell_type": "code",
   "execution_count": 22,
   "id": "305eab40",
   "metadata": {},
   "outputs": [
    {
     "name": "stdout",
     "output_type": "stream",
     "text": [
      "['simran', 'tasleem', 'hamed', 'nihar', 'prasad', 'kumar', 'abdul', 'shraddha', 'shiva']\n"
     ]
    }
   ],
   "source": [
    "print(students)"
   ]
  },
  {
   "cell_type": "code",
   "execution_count": null,
   "id": "db089780",
   "metadata": {},
   "outputs": [],
   "source": [
    "# req: i want to delete hamed name from the list......?"
   ]
  },
  {
   "cell_type": "code",
   "execution_count": 24,
   "id": "41345a47",
   "metadata": {},
   "outputs": [
    {
     "name": "stdout",
     "output_type": "stream",
     "text": [
      "hamed\n"
     ]
    }
   ],
   "source": [
    "print(students[2])"
   ]
  },
  {
   "cell_type": "code",
   "execution_count": 25,
   "id": "636c730a",
   "metadata": {},
   "outputs": [],
   "source": [
    "del students[2]"
   ]
  },
  {
   "cell_type": "code",
   "execution_count": 26,
   "id": "ab4ba986",
   "metadata": {},
   "outputs": [
    {
     "name": "stdout",
     "output_type": "stream",
     "text": [
      "['simran', 'tasleem', 'nihar', 'prasad', 'kumar', 'abdul', 'shraddha', 'shiva']\n"
     ]
    }
   ],
   "source": [
    "print(students)"
   ]
  },
  {
   "cell_type": "code",
   "execution_count": null,
   "id": "ea8ea6ce",
   "metadata": {},
   "outputs": [],
   "source": []
  },
  {
   "cell_type": "code",
   "execution_count": null,
   "id": "e5233372",
   "metadata": {},
   "outputs": [],
   "source": []
  },
  {
   "cell_type": "code",
   "execution_count": null,
   "id": "e5c6fb54",
   "metadata": {},
   "outputs": [],
   "source": []
  },
  {
   "cell_type": "code",
   "execution_count": null,
   "id": "ea1c4985",
   "metadata": {},
   "outputs": [],
   "source": []
  }
 ],
 "metadata": {
  "kernelspec": {
   "display_name": "Python 3 (ipykernel)",
   "language": "python",
   "name": "python3"
  },
  "language_info": {
   "codemirror_mode": {
    "name": "ipython",
    "version": 3
   },
   "file_extension": ".py",
   "mimetype": "text/x-python",
   "name": "python",
   "nbconvert_exporter": "python",
   "pygments_lexer": "ipython3",
   "version": "3.9.7"
  }
 },
 "nbformat": 4,
 "nbformat_minor": 5
}
